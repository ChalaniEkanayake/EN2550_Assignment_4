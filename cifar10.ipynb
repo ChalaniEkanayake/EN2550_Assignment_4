{
  "nbformat": 4,
  "nbformat_minor": 0,
  "metadata": {
    "kernelspec": {
      "display_name": "Python 3",
      "language": "python",
      "name": "python3"
    },
    "language_info": {
      "codemirror_mode": {
        "name": "ipython",
        "version": 3
      },
      "file_extension": ".py",
      "mimetype": "text/x-python",
      "name": "python",
      "nbconvert_exporter": "python",
      "pygments_lexer": "ipython3",
      "version": "3.7.9"
    },
    "papermill": {
      "default_parameters": {},
      "duration": 27.531471,
      "end_time": "2021-03-31T20:46:16.270998",
      "environment_variables": {},
      "exception": null,
      "input_path": "__notebook__.ipynb",
      "output_path": "__notebook__.ipynb",
      "parameters": {},
      "start_time": "2021-03-31T20:45:48.739527",
      "version": "2.2.2"
    },
    "colab": {
      "name": "cifar10.ipynb",
      "provenance": []
    }
  },
  "cells": [
    {
      "cell_type": "code",
      "metadata": {
        "_cell_guid": "b1076dfc-b9ad-4769-8c92-a6c4dae69d19",
        "_uuid": "8f2839f25d086af736a60e9eeb907d3b93b6e0e5",
        "execution": {
          "iopub.execute_input": "2021-03-31T20:45:55.374217Z",
          "iopub.status.busy": "2021-03-31T20:45:55.373534Z",
          "iopub.status.idle": "2021-03-31T20:46:02.752302Z",
          "shell.execute_reply": "2021-03-31T20:46:02.752822Z"
        },
        "papermill": {
          "duration": 7.395452,
          "end_time": "2021-03-31T20:46:02.753201",
          "exception": false,
          "start_time": "2021-03-31T20:45:55.357749",
          "status": "completed"
        },
        "tags": [],
        "id": "AIkCBkg6cqnR"
      },
      "source": [
        "import tensorflow as tf\n",
        "from tensorflow import keras\n",
        "import matplotlib.pyplot as plt\n",
        "import numpy as np"
      ],
      "execution_count": 11,
      "outputs": []
    },
    {
      "cell_type": "code",
      "metadata": {
        "execution": {
          "iopub.execute_input": "2021-03-31T20:46:02.778384Z",
          "iopub.status.busy": "2021-03-31T20:46:02.777398Z",
          "iopub.status.idle": "2021-03-31T20:46:11.303817Z",
          "shell.execute_reply": "2021-03-31T20:46:11.303227Z"
        },
        "papermill": {
          "duration": 8.540856,
          "end_time": "2021-03-31T20:46:11.303961",
          "exception": false,
          "start_time": "2021-03-31T20:46:02.763105",
          "status": "completed"
        },
        "tags": [],
        "id": "vzqmiERBcqna"
      },
      "source": [
        "(x_train, y_train), (x_test, y_test) = keras.datasets.cifar10.load_data()"
      ],
      "execution_count": 124,
      "outputs": []
    },
    {
      "cell_type": "code",
      "metadata": {
        "execution": {
          "iopub.execute_input": "2021-03-31T20:46:11.367802Z",
          "iopub.status.busy": "2021-03-31T20:46:11.366981Z",
          "iopub.status.idle": "2021-03-31T20:46:11.371128Z",
          "shell.execute_reply": "2021-03-31T20:46:11.370618Z"
        },
        "papermill": {
          "duration": 0.037607,
          "end_time": "2021-03-31T20:46:11.371276",
          "exception": false,
          "start_time": "2021-03-31T20:46:11.333669",
          "status": "completed"
        },
        "tags": [],
        "colab": {
          "base_uri": "https://localhost:8080/"
        },
        "id": "Cf7xVDuwcqnc",
        "outputId": "3aff485e-7948-4078-ad03-5cb429d8aca4"
      },
      "source": [
        "print('x_train : ',x_train.shape)\n",
        "print('x_test : ',x_test.shape)\n",
        "\n",
        "K = len(np.unique(y_train))    # classes\n",
        "print('Number of classes :', K)"
      ],
      "execution_count": 125,
      "outputs": [
        {
          "output_type": "stream",
          "text": [
            "x_train :  (50000, 32, 32, 3)\n",
            "x_test :  (10000, 32, 32, 3)\n",
            "Number of classes : 10\n"
          ],
          "name": "stdout"
        }
      ]
    },
    {
      "cell_type": "code",
      "metadata": {
        "execution": {
          "iopub.execute_input": "2021-03-31T20:46:11.583894Z",
          "iopub.status.busy": "2021-03-31T20:46:11.582523Z",
          "iopub.status.idle": "2021-03-31T20:46:11.587142Z",
          "shell.execute_reply": "2021-03-31T20:46:11.587713Z"
        },
        "papermill": {
          "duration": 0.042484,
          "end_time": "2021-03-31T20:46:11.587926",
          "exception": false,
          "start_time": "2021-03-31T20:46:11.545442",
          "status": "completed"
        },
        "tags": [],
        "colab": {
          "base_uri": "https://localhost:8080/"
        },
        "id": "jRfGXASrcqng",
        "outputId": "387b8c23-667f-4584-f557-a2c016c3a6a2"
      },
      "source": [
        "Ntr = x_train.shape[0]\n",
        "Nte = x_test.shape[0]\n",
        "Din = x_train.shape[1]*x_train.shape[1]*3\n",
        "\n",
        "print('Number of train samples :', Ntr)\n",
        "print('Number of test samples :', Nte)\n",
        "print('Dimension of each sample :', Din)"
      ],
      "execution_count": 126,
      "outputs": [
        {
          "output_type": "stream",
          "text": [
            "Number of train samples : 50000\n",
            "Number of test samples : 10000\n",
            "Dimension of each sample : 3072\n"
          ],
          "name": "stdout"
        }
      ]
    },
    {
      "cell_type": "code",
      "metadata": {
        "execution": {
          "iopub.execute_input": "2021-03-31T20:46:11.659359Z",
          "iopub.status.busy": "2021-03-31T20:46:11.658656Z",
          "iopub.status.idle": "2021-03-31T20:46:11.661862Z",
          "shell.execute_reply": "2021-03-31T20:46:11.661195Z"
        },
        "papermill": {
          "duration": 0.042297,
          "end_time": "2021-03-31T20:46:11.662009",
          "exception": false,
          "start_time": "2021-03-31T20:46:11.619712",
          "status": "completed"
        },
        "tags": [],
        "id": "z5RUyRfxcqnh"
      },
      "source": [
        "labels = {0:'airplane', 1:'automobile', 2:'bird', 3:'cat', 4:'deer', 5:'dog', 6:'frog',\n",
        "         7:'horse', 8:'ship', 9:'truck'}"
      ],
      "execution_count": 14,
      "outputs": []
    },
    {
      "cell_type": "code",
      "metadata": {
        "execution": {
          "iopub.execute_input": "2021-03-31T20:46:11.736540Z",
          "iopub.status.busy": "2021-03-31T20:46:11.735406Z",
          "iopub.status.idle": "2021-03-31T20:46:12.264246Z",
          "shell.execute_reply": "2021-03-31T20:46:12.264729Z"
        },
        "papermill": {
          "duration": 0.571399,
          "end_time": "2021-03-31T20:46:12.264919",
          "exception": false,
          "start_time": "2021-03-31T20:46:11.693520",
          "status": "completed"
        },
        "tags": [],
        "colab": {
          "base_uri": "https://localhost:8080/",
          "height": 307
        },
        "id": "9C2PjUBocqni",
        "outputId": "94475161-760f-4586-bdbb-ac4ca3a2ea24"
      },
      "source": [
        "fig, ax = plt.subplots(1, 4, figsize=(20,20))\n",
        "\n",
        "for i in range(0, 4):\n",
        "    img = x_train[i]\n",
        "    ax.ravel()[i].imshow(img)\n",
        "    ax.ravel()[i].set_title(\"Label : {}\".format(labels.get(y_train[i][0])))"
      ],
      "execution_count": 7,
      "outputs": [
        {
          "output_type": "display_data",
          "data": {
            "image/png": "[encoded data removed]",
            "text/plain": [
              "<Figure size 1440x1440 with 4 Axes>"
            ]
          },
          "metadata": {
            "tags": [],
            "needs_background": "light"
          }
        }
      ]
    },
    {
      "cell_type": "code",
      "metadata": {
        "execution": {
          "iopub.execute_input": "2021-03-31T20:46:12.336593Z",
          "iopub.status.busy": "2021-03-31T20:46:12.335444Z",
          "iopub.status.idle": "2021-03-31T20:46:13.794616Z",
          "shell.execute_reply": "2021-03-31T20:46:13.793833Z"
        },
        "papermill": {
          "duration": 1.497562,
          "end_time": "2021-03-31T20:46:13.794793",
          "exception": false,
          "start_time": "2021-03-31T20:46:12.297231",
          "status": "completed"
        },
        "tags": [],
        "id": "e7SXq2_vcqnj"
      },
      "source": [
        "# Normalize pixel values\n",
        "x_train, x_test = x_train / 255.0, x_test / 255.0\n",
        "\n",
        "mean_image = np.mean(x_train, axis=0)\n",
        "\n",
        "x_train = x_train - mean_image\n",
        "x_test = x_test - mean_image"
      ],
      "execution_count": 127,
      "outputs": []
    },
    {
      "cell_type": "code",
      "metadata": {
        "execution": {
          "iopub.execute_input": "2021-03-31T20:46:13.866761Z",
          "iopub.status.busy": "2021-03-31T20:46:13.866097Z",
          "iopub.status.idle": "2021-03-31T20:46:13.870931Z",
          "shell.execute_reply": "2021-03-31T20:46:13.871565Z"
        },
        "papermill": {
          "duration": 0.043281,
          "end_time": "2021-03-31T20:46:13.871749",
          "exception": false,
          "start_time": "2021-03-31T20:46:13.828468",
          "status": "completed"
        },
        "tags": [],
        "colab": {
          "base_uri": "https://localhost:8080/"
        },
        "id": "hZ8yHzbzcqnj",
        "outputId": "4771efb6-51d4-4acb-8a76-6cea18f7991d"
      },
      "source": [
        "# like one hot encoding\n",
        "y_train = tf.keras.utils.to_categorical(y_train, num_classes=K)\n",
        "y_test = tf.keras.utils.to_categorical(y_test, num_classes=K)\n",
        "\n",
        "print('Shape after one hot encoding :',y_train.shape)"
      ],
      "execution_count": 128,
      "outputs": [
        {
          "output_type": "stream",
          "text": [
            "Shape after one hot encoding : (50000, 10)\n"
          ],
          "name": "stdout"
        }
      ]
    },
    {
      "cell_type": "code",
      "metadata": {
        "execution": {
          "iopub.execute_input": "2021-03-31T20:46:14.020503Z",
          "iopub.status.busy": "2021-03-31T20:46:14.019682Z",
          "iopub.status.idle": "2021-03-31T20:46:15.063925Z",
          "shell.execute_reply": "2021-03-31T20:46:15.063331Z"
        },
        "papermill": {
          "duration": 1.08388,
          "end_time": "2021-03-31T20:46:15.064073",
          "exception": false,
          "start_time": "2021-03-31T20:46:13.980193",
          "status": "completed"
        },
        "tags": [],
        "colab": {
          "base_uri": "https://localhost:8080/"
        },
        "id": "6kjgjJsmcqnk",
        "outputId": "0446b63c-97b8-41f4-bd02-ae50ea401482"
      },
      "source": [
        "x_train = np.reshape(x_train,(Ntr,Din))   #flattening\n",
        "x_test = np.reshape(x_test,(Nte,Din))\n",
        "x_train = x_train.astype('float32')\n",
        "x_test = x_test.astype('float32')\n",
        "\n",
        "print('Shape of x_train after reshaping :', x_train.shape)"
      ],
      "execution_count": 129,
      "outputs": [
        {
          "output_type": "stream",
          "text": [
            "Shape of x_train after reshaping : (50000, 3072)\n"
          ],
          "name": "stdout"
        }
      ]
    },
    {
      "cell_type": "code",
      "metadata": {
        "execution": {
          "iopub.execute_input": "2021-03-31T20:46:15.215062Z",
          "iopub.status.busy": "2021-03-31T20:46:15.213983Z",
          "iopub.status.idle": "2021-03-31T20:46:15.222071Z",
          "shell.execute_reply": "2021-03-31T20:46:15.222963Z"
        },
        "papermill": {
          "duration": 0.048889,
          "end_time": "2021-03-31T20:46:15.223171",
          "exception": false,
          "start_time": "2021-03-31T20:46:15.174282",
          "status": "completed"
        },
        "tags": [],
        "colab": {
          "base_uri": "https://localhost:8080/"
        },
        "id": "7QOVAtrJcqnl",
        "outputId": "9c48aac7-e174-40e6-de46-000bd3fc4368"
      },
      "source": [
        "# initializing weight and bias vectors\n",
        "\n",
        "std=1e-5\n",
        "w1 = std*np.random.randn(Din, K)\n",
        "b1 = np.zeros(K)\n",
        "batch_size = Ntr\n",
        "\n",
        "\n",
        "print(\"w1:\", w1.shape)\n",
        "print(\"b1:\", b1.shape)\n",
        "print('Batch size :', Ntr)"
      ],
      "execution_count": 130,
      "outputs": [
        {
          "output_type": "stream",
          "text": [
            "w1: (3072, 10)\n",
            "b1: (10,)\n",
            "Batch size : 50000\n"
          ],
          "name": "stdout"
        }
      ]
    },
    {
      "cell_type": "code",
      "metadata": {
        "colab": {
          "base_uri": "https://localhost:8080/"
        },
        "id": "sTY8rU6SmcB5",
        "outputId": "d7c3b34e-111a-4a75-98d4-9334f63e03b7"
      },
      "source": [
        "b1 = b1.reshape(K, 1)\n",
        "print('Shape of b1 :', b1.shape)\n",
        "\n",
        "w1 = w1.T\n",
        "print('Shape of w1 :', w1.shape)\n",
        "\n",
        "x_train = x_train.T\n",
        "x_test = x_test.T\n",
        "y_train = y_train.T\n",
        "y_test = y_test.T\n",
        "\n",
        "print('Shape of x train :', x_train.shape)\n",
        "print('Shape of x test :', x_test.shape)\n",
        "print('Shape of y train :', y_train.shape)\n",
        "print('Shape of y test :', y_test.shape)"
      ],
      "execution_count": 131,
      "outputs": [
        {
          "output_type": "stream",
          "text": [
            "Shape of b1 : (10, 1)\n",
            "Shape of w1 : (10, 3072)\n",
            "Shape of x train : (3072, 50000)\n",
            "Shape of x test : (3072, 10000)\n",
            "Shape of y train : (10, 50000)\n",
            "Shape of y test : (10, 10000)\n"
          ],
          "name": "stdout"
        }
      ]
    },
    {
      "cell_type": "code",
      "metadata": {
        "colab": {
          "base_uri": "https://localhost:8080/"
        },
        "id": "6MENp1LSf_7Y",
        "outputId": "c7682f41-066b-4917-9631-731b260f09f8"
      },
      "source": [
        "# Bias Trick \n",
        "# Simplifies two parameters W,b into a one matrix. This way our model only has to learn one weight matrix instead of two separate matrices.\n",
        "# We combine W and b into a single matrix and also add an extra column that always hold 1.\n",
        "\n",
        "W = np.append(w1, b1, axis=1)\n",
        "print('New weight matrix shape: ',W.shape)\n",
        "\n",
        "x_train_new = np.append(x_train, np.ones((1, x_train.shape[1])), axis=0)\n",
        "x_test_new = np.append(x_test, np.ones((1, x_test.shape[1])), axis=0)\n",
        "\n",
        "print('Rearranged x_train: ', x_train_new.shape)"
      ],
      "execution_count": 132,
      "outputs": [
        {
          "output_type": "stream",
          "text": [
            "New weight matrix shape:  (10, 3073)\n",
            "Rearranged x_train:  (3073, 50000)\n"
          ],
          "name": "stdout"
        }
      ]
    },
    {
      "cell_type": "code",
      "metadata": {
        "id": "NEpAh-5buwCq"
      },
      "source": [
        "iterations = 300 \n",
        "lr = 0.05\n",
        "lr_decay= 0.999\n",
        "reg = 5e-6\n",
        "lr_hitory = []\n",
        "loss_history = [] # Vlaues of loss function at each iteration \n",
        "train_acc_history = [] # Training accuracy\n",
        "val_acc_history = [] # Validation accuracy\n",
        "seed = 0\n",
        "\n",
        "m = x_train_new.shape[1]  # Number of training examples\n",
        "\n",
        "rng = np.random.default_rng(seed=seed)\n",
        "\n",
        "for t in range(iterations):\n",
        "  indices = np.arange(Ntr)\n",
        "  rng.shuffle(indices)\n",
        "\n",
        "  # Forward pass\n",
        "  scores = W.dot(x_train_new)\n",
        "  loss_func = (1/m)*np.sum((scores - y_train)**2) + (1/m)*reg*np.sum(W**2)\n",
        "  loss_history.append(loss_func)\n",
        "  \n",
        "  # Backward pass\n",
        "  # Printing accuracies and displaying w as images\n"
      ],
      "execution_count": null,
      "outputs": []
    },
    {
      "cell_type": "code",
      "metadata": {
        "id": "NczZjb6f5_C_"
      },
      "source": [
        ""
      ],
      "execution_count": null,
      "outputs": []
    }
  ]
}