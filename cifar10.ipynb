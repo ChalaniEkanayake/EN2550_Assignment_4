{
 "cells": [
  {
   "cell_type": "code",
   "execution_count": 1,
   "metadata": {
    "_cell_guid": "b1076dfc-b9ad-4769-8c92-a6c4dae69d19",
    "_uuid": "8f2839f25d086af736a60e9eeb907d3b93b6e0e5",
    "execution": {
     "iopub.execute_input": "2021-03-31T20:45:55.374217Z",
     "iopub.status.busy": "2021-03-31T20:45:55.373534Z",
     "iopub.status.idle": "2021-03-31T20:46:02.752302Z",
     "shell.execute_reply": "2021-03-31T20:46:02.752822Z"
    },
    "papermill": {
     "duration": 7.395452,
     "end_time": "2021-03-31T20:46:02.753201",
     "exception": false,
     "start_time": "2021-03-31T20:45:55.357749",
     "status": "completed"
    },
    "tags": []
   },
   "outputs": [],
   "source": [
    "import tensorflow as tf\n",
    "from tensorflow import keras\n",
    "import matplotlib.pyplot as plt\n",
    "import numpy as np"
   ]
  },
  {
   "cell_type": "code",
   "execution_count": 2,
   "metadata": {
    "execution": {
     "iopub.execute_input": "2021-03-31T20:46:02.778384Z",
     "iopub.status.busy": "2021-03-31T20:46:02.777398Z",
     "iopub.status.idle": "2021-03-31T20:46:11.303817Z",
     "shell.execute_reply": "2021-03-31T20:46:11.303227Z"
    },
    "papermill": {
     "duration": 8.540856,
     "end_time": "2021-03-31T20:46:11.303961",
     "exception": false,
     "start_time": "2021-03-31T20:46:02.763105",
     "status": "completed"
    },
    "tags": []
   },
   "outputs": [
    {
     "name": "stdout",
     "output_type": "stream",
     "text": [
      "Downloading data from https://www.cs.toronto.edu/~kriz/cifar-10-python.tar.gz\n",
      "170500096/170498071 [==============================] - 6s 0us/step\n"
     ]
    }
   ],
   "source": [
    "(x_train, y_train), (x_test, y_test) = keras.datasets.cifar10.load_data()"
   ]
  },
  {
   "cell_type": "code",
   "execution_count": 3,
   "metadata": {
    "execution": {
     "iopub.execute_input": "2021-03-31T20:46:11.367802Z",
     "iopub.status.busy": "2021-03-31T20:46:11.366981Z",
     "iopub.status.idle": "2021-03-31T20:46:11.371128Z",
     "shell.execute_reply": "2021-03-31T20:46:11.370618Z"
    },
    "papermill": {
     "duration": 0.037607,
     "end_time": "2021-03-31T20:46:11.371276",
     "exception": false,
     "start_time": "2021-03-31T20:46:11.333669",
     "status": "completed"
    },
    "tags": []
   },
   "outputs": [
    {
     "name": "stdout",
     "output_type": "stream",
     "text": [
      "x_train :  (50000, 32, 32, 3)\n"
     ]
    }
   ],
   "source": [
    "print('x_train : ',x_train.shape)"
   ]
  },
  {
   "cell_type": "code",
   "execution_count": 4,
   "metadata": {
    "execution": {
     "iopub.execute_input": "2021-03-31T20:46:11.437383Z",
     "iopub.status.busy": "2021-03-31T20:46:11.436587Z",
     "iopub.status.idle": "2021-03-31T20:46:11.440852Z",
     "shell.execute_reply": "2021-03-31T20:46:11.440185Z"
    },
    "papermill": {
     "duration": 0.039198,
     "end_time": "2021-03-31T20:46:11.441010",
     "exception": false,
     "start_time": "2021-03-31T20:46:11.401812",
     "status": "completed"
    },
    "tags": []
   },
   "outputs": [
    {
     "name": "stdout",
     "output_type": "stream",
     "text": [
      "x_test :  (10000, 32, 32, 3)\n"
     ]
    }
   ],
   "source": [
    "print('x_test : ',x_test.shape)"
   ]
  },
  {
   "cell_type": "code",
   "execution_count": 5,
   "metadata": {
    "execution": {
     "iopub.execute_input": "2021-03-31T20:46:11.506567Z",
     "iopub.status.busy": "2021-03-31T20:46:11.505711Z",
     "iopub.status.idle": "2021-03-31T20:46:11.514159Z",
     "shell.execute_reply": "2021-03-31T20:46:11.513622Z"
    },
    "papermill": {
     "duration": 0.043156,
     "end_time": "2021-03-31T20:46:11.514309",
     "exception": false,
     "start_time": "2021-03-31T20:46:11.471153",
     "status": "completed"
    },
    "tags": []
   },
   "outputs": [
    {
     "name": "stdout",
     "output_type": "stream",
     "text": [
      "Number of classes : 10\n"
     ]
    }
   ],
   "source": [
    "K = len(np.unique(y_train))    # classes\n",
    "print('Number of classes :', K)"
   ]
  },
  {
   "cell_type": "code",
   "execution_count": 6,
   "metadata": {
    "execution": {
     "iopub.execute_input": "2021-03-31T20:46:11.583894Z",
     "iopub.status.busy": "2021-03-31T20:46:11.582523Z",
     "iopub.status.idle": "2021-03-31T20:46:11.587142Z",
     "shell.execute_reply": "2021-03-31T20:46:11.587713Z"
    },
    "papermill": {
     "duration": 0.042484,
     "end_time": "2021-03-31T20:46:11.587926",
     "exception": false,
     "start_time": "2021-03-31T20:46:11.545442",
     "status": "completed"
    },
    "tags": []
   },
   "outputs": [
    {
     "name": "stdout",
     "output_type": "stream",
     "text": [
      "Number of train samples : 50000\n",
      "Number of test samples : 10000\n",
      "Dimension of each sample : 3072\n"
     ]
    }
   ],
   "source": [
    "Ntr = x_train.shape[0]\n",
    "Nte = x_test.shape[0]\n",
    "Din = x_train.shape[1]*x_train.shape[1]*3\n",
    "\n",
    "print('Number of train samples :', Ntr)\n",
    "print('Number of test samples :', Nte)\n",
    "print('Dimension of each sample :', Din)"
   ]
  },
  {
   "cell_type": "code",
   "execution_count": 7,
   "metadata": {
    "execution": {
     "iopub.execute_input": "2021-03-31T20:46:11.659359Z",
     "iopub.status.busy": "2021-03-31T20:46:11.658656Z",
     "iopub.status.idle": "2021-03-31T20:46:11.661862Z",
     "shell.execute_reply": "2021-03-31T20:46:11.661195Z"
    },
    "papermill": {
     "duration": 0.042297,
     "end_time": "2021-03-31T20:46:11.662009",
     "exception": false,
     "start_time": "2021-03-31T20:46:11.619712",
     "status": "completed"
    },
    "tags": []
   },
   "outputs": [],
   "source": [
    "labels = {0:'airplane', 1:'automobile', 2:'bird', 3:'cat', 4:'deer', 5:'dog', 6:'frog',\n",
    "         7:'horse', 8:'ship', 9:'truck'}"
   ]
  },
  {
   "cell_type": "code",
   "execution_count": 8,
   "metadata": {
    "execution": {
     "iopub.execute_input": "2021-03-31T20:46:11.736540Z",
     "iopub.status.busy": "2021-03-31T20:46:11.735406Z",
     "iopub.status.idle": "2021-03-31T20:46:12.264246Z",
     "shell.execute_reply": "2021-03-31T20:46:12.264729Z"
    },
    "papermill": {
     "duration": 0.571399,
     "end_time": "2021-03-31T20:46:12.264919",
     "exception": false,
     "start_time": "2021-03-31T20:46:11.693520",
     "status": "completed"
    },
    "tags": []
   },
   "outputs": [
    {
     "data": {
      "image/png": "[encoded data removed]",
      "text/plain": [
       "<Figure size 1440x1440 with 4 Axes>"
      ]
     },
     "metadata": {
      "needs_background": "light"
     },
     "output_type": "display_data"
    }
   ],
   "source": [
    "fig, ax = plt.subplots(1, 4, figsize=(20,20))\n",
    "\n",
    "for i in range(0, 4):\n",
    "    img = x_train[i]\n",
    "    ax.ravel()[i].imshow(img)\n",
    "    ax.ravel()[i].set_title(\"Label : {}\".format(labels.get(y_train[i][0])))"
   ]
  },
  {
   "cell_type": "code",
   "execution_count": 9,
   "metadata": {
    "execution": {
     "iopub.execute_input": "2021-03-31T20:46:12.336593Z",
     "iopub.status.busy": "2021-03-31T20:46:12.335444Z",
     "iopub.status.idle": "2021-03-31T20:46:13.794616Z",
     "shell.execute_reply": "2021-03-31T20:46:13.793833Z"
    },
    "papermill": {
     "duration": 1.497562,
     "end_time": "2021-03-31T20:46:13.794793",
     "exception": false,
     "start_time": "2021-03-31T20:46:12.297231",
     "status": "completed"
    },
    "tags": []
   },
   "outputs": [],
   "source": [
    "# Normalize pixel values\n",
    "x_train, x_test = x_train / 255.0, x_test / 255.0\n",
    "\n",
    "mean_image = np.mean(x_train, axis=0)\n",
    "\n",
    "x_train = x_train - mean_image\n",
    "x_test = x_test - mean_image"
   ]
  },
  {
   "cell_type": "code",
   "execution_count": 10,
   "metadata": {
    "execution": {
     "iopub.execute_input": "2021-03-31T20:46:13.866761Z",
     "iopub.status.busy": "2021-03-31T20:46:13.866097Z",
     "iopub.status.idle": "2021-03-31T20:46:13.870931Z",
     "shell.execute_reply": "2021-03-31T20:46:13.871565Z"
    },
    "papermill": {
     "duration": 0.043281,
     "end_time": "2021-03-31T20:46:13.871749",
     "exception": false,
     "start_time": "2021-03-31T20:46:13.828468",
     "status": "completed"
    },
    "tags": []
   },
   "outputs": [],
   "source": [
    "# like one hot encoding\n",
    "y_train = tf.keras.utils.to_categorical(y_train, num_classes=K)\n",
    "y_test = tf.keras.utils.to_categorical(y_test, num_classes=K)"
   ]
  },
  {
   "cell_type": "code",
   "execution_count": 11,
   "metadata": {
    "execution": {
     "iopub.execute_input": "2021-03-31T20:46:13.941447Z",
     "iopub.status.busy": "2021-03-31T20:46:13.940722Z",
     "iopub.status.idle": "2021-03-31T20:46:13.946800Z",
     "shell.execute_reply": "2021-03-31T20:46:13.946274Z"
    },
    "papermill": {
     "duration": 0.042678,
     "end_time": "2021-03-31T20:46:13.946952",
     "exception": false,
     "start_time": "2021-03-31T20:46:13.904274",
     "status": "completed"
    },
    "tags": []
   },
   "outputs": [
    {
     "data": {
      "text/plain": [
       "(50000, 10)"
      ]
     },
     "execution_count": 11,
     "metadata": {},
     "output_type": "execute_result"
    }
   ],
   "source": [
    "y_train.shape"
   ]
  },
  {
   "cell_type": "code",
   "execution_count": 12,
   "metadata": {
    "execution": {
     "iopub.execute_input": "2021-03-31T20:46:14.020503Z",
     "iopub.status.busy": "2021-03-31T20:46:14.019682Z",
     "iopub.status.idle": "2021-03-31T20:46:15.063925Z",
     "shell.execute_reply": "2021-03-31T20:46:15.063331Z"
    },
    "papermill": {
     "duration": 1.08388,
     "end_time": "2021-03-31T20:46:15.064073",
     "exception": false,
     "start_time": "2021-03-31T20:46:13.980193",
     "status": "completed"
    },
    "tags": []
   },
   "outputs": [],
   "source": [
    "x_train = np.reshape(x_train,(Ntr,Din))\n",
    "x_test = np.reshape(x_test,(Nte,Din))\n",
    "x_train = x_train.astype('float32')\n",
    "x_test = x_test.astype('float32')"
   ]
  },
  {
   "cell_type": "code",
   "execution_count": 13,
   "metadata": {
    "execution": {
     "iopub.execute_input": "2021-03-31T20:46:15.136249Z",
     "iopub.status.busy": "2021-03-31T20:46:15.135209Z",
     "iopub.status.idle": "2021-03-31T20:46:15.140432Z",
     "shell.execute_reply": "2021-03-31T20:46:15.139791Z"
    },
    "papermill": {
     "duration": 0.043386,
     "end_time": "2021-03-31T20:46:15.140571",
     "exception": false,
     "start_time": "2021-03-31T20:46:15.097185",
     "status": "completed"
    },
    "tags": []
   },
   "outputs": [
    {
     "data": {
      "text/plain": [
       "(50000, 3072)"
      ]
     },
     "execution_count": 13,
     "metadata": {},
     "output_type": "execute_result"
    }
   ],
   "source": [
    "x_train.shape"
   ]
  },
  {
   "cell_type": "code",
   "execution_count": 14,
   "metadata": {
    "execution": {
     "iopub.execute_input": "2021-03-31T20:46:15.215062Z",
     "iopub.status.busy": "2021-03-31T20:46:15.213983Z",
     "iopub.status.idle": "2021-03-31T20:46:15.222071Z",
     "shell.execute_reply": "2021-03-31T20:46:15.222963Z"
    },
    "papermill": {
     "duration": 0.048889,
     "end_time": "2021-03-31T20:46:15.223171",
     "exception": false,
     "start_time": "2021-03-31T20:46:15.174282",
     "status": "completed"
    },
    "tags": []
   },
   "outputs": [
    {
     "name": "stdout",
     "output_type": "stream",
     "text": [
      "w1: (3072, 10)\n",
      "b1: (10,)\n"
     ]
    }
   ],
   "source": [
    "std=1e-5\n",
    "w1 = std*np.random.randn(Din, K)\n",
    "b1 = np.zeros(K)\n",
    "print(\"w1:\", w1.shape)\n",
    "print(\"b1:\", b1.shape)\n",
    "batch_size = Ntr"
   ]
  }
 ],
 "metadata": {
  "kernelspec": {
   "display_name": "Python 3",
   "language": "python",
   "name": "python3"
  },
  "language_info": {
   "codemirror_mode": {
    "name": "ipython",
    "version": 3
   },
   "file_extension": ".py",
   "mimetype": "text/x-python",
   "name": "python",
   "nbconvert_exporter": "python",
   "pygments_lexer": "ipython3",
   "version": "3.7.9"
  },
  "papermill": {
   "default_parameters": {},
   "duration": 27.531471,
   "end_time": "2021-03-31T20:46:16.270998",
   "environment_variables": {},
   "exception": null,
   "input_path": "__notebook__.ipynb",
   "output_path": "__notebook__.ipynb",
   "parameters": {},
   "start_time": "2021-03-31T20:45:48.739527",
   "version": "2.2.2"
  }
 },
 "nbformat": 4,
 "nbformat_minor": 4
}
